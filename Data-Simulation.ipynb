{
 "cells": [
  {
   "cell_type": "markdown",
   "metadata": {},
   "source": [
    "Choose a real-world phenomenon that can be measured and for which you could collect at least one-hundred data points across at least four different variables.\n",
    "Investigate the types of variables involved, their likely distributions, and their relationships with each other.\n",
    "Synthesise/simulate a data set as closely matching their properties as possible.\n",
    "Detail your research and implement the simulation in a Jupyter notebook – the data set itself can simply be displayed in an output cell within the notebook.\n"
   ]
  },
  {
   "cell_type": "markdown",
   "metadata": {},
   "source": [
    "The real world phenomenon which I have chosen to examine is the issue of recidivism of Irish prisoners. \n",
    "\n",
    "For this project, I will create a simulated dataset on the factors which contribute to the recidivism of Irish prisoners. \n",
    "\n",
    "The variables involved in this project:\n",
    "1. Age of the prisoner\n",
    "2. Gender of the prisoner\n",
    "3. Length of sentence served\n",
    "4. Type of sentence served \n",
    "5. Economic/education level of prisoner "
   ]
  },
  {
   "cell_type": "markdown",
   "metadata": {},
   "source": [
    "## Project Objectives:\n",
    "\n"
   ]
  },
  {
   "cell_type": "markdown",
   "metadata": {},
   "source": [
    "The recidivism rate of of those released from incarceration is an issue which arises again and again. As the population of Ireland continues to grow, this can place pressure on many resources, prison capacity included. Thus, many people look at the goal of incarceration itself, and whether it is fit for purpose.\n",
    "When considering the purpose of incarceration, the main theories that underpin incarceration are: Incapacitation, rehabilitation, reparation, deterrence and retribution. \n",
    "\n",
    "In particular, looking at the theories of deterrence and rehabilitation, the issue of recidivism is particularly relevant. If the incarceration of wrong-doers is based on the notion that prison will rehabilitate them, reforming their behaviour and providing educational and emotional support, then the rate of recidivism can demonstrate whether rehabilitation is acutally being achieved.\n",
    "\n",
    "Furthermore, if prison is considered a deterrent to would-be criminals, then the rate of recidivism can demonstrate if this is being achieved. A higher rate of recidivism can demonstrate that imprisonment is not an effective deterrent to criminals. \n",
    "\n",
    "\n",
    "[https://www.unodc.org/e4j/en/crime-prevention-criminal-justice/module-7/key-issues/2--justifying-punishment-in-the-community.html]\n",
    "\n",
    " "
   ]
  },
  {
   "cell_type": "markdown",
   "metadata": {},
   "source": [
    "By determining which prisoners are most likely to reoffend, it can provide "
   ]
  },
  {
   "cell_type": "markdown",
   "metadata": {},
   "source": [
    "## Important to note\n",
    "\n",
    "The recidivism rate of criminals is a very complex issue. It is not within the remit of this project to comprehensively cover all of the factors which contribute to the recidivism of criminals. In particular, there are various factors such as relationship breakdowns, mental health issues, and traumatic events and difficult upbringings can all contirbute significantly to the rate of recidivism of a particular offender. However, such variables are difficult to accurately measure and are greatly influenced by the personal experiences and motivations of each individual. "
   ]
  },
  {
   "cell_type": "markdown",
   "metadata": {},
   "source": [
    "https://www.felonyrecordhub.com/wp-content/uploads/2021/04/Recidivism-Header.jpg"
   ]
  },
  {
   "cell_type": "markdown",
   "metadata": {},
   "source": []
  },
  {
   "cell_type": "code",
   "execution_count": null,
   "metadata": {},
   "outputs": [],
   "source": []
  },
  {
   "cell_type": "code",
   "execution_count": null,
   "metadata": {},
   "outputs": [],
   "source": [
    "# Here I am importing the various libraries I require to complete the data analysis and simulation\n",
    "import numpy as np\n",
    "import seaborn as sea\n",
    "import pandas as pd\n",
    "import matplotlib.pyplot as plt\n",
    "import sys"
   ]
  },
  {
   "cell_type": "code",
   "execution_count": null,
   "metadata": {},
   "outputs": [],
   "source": [
    "import pandas as pd\n",
    "\n",
    "\n"
   ]
  },
  {
   "cell_type": "markdown",
   "metadata": {},
   "source": [
    "# VARIABLE 1: AGE"
   ]
  },
  {
   "cell_type": "code",
   "execution_count": null,
   "metadata": {},
   "outputs": [],
   "source": [
    "Ages = ['Under 21', '21-25', '26-30', '31-35', '36-40', '41-50', '50+']\n",
    "age = np.random.choice(Ages, 2604, p=[0.058, 0.194, 0.211, 0.184, 0.133, 0.141, 0.079])\n",
    "#print(age)  ^^^ THIS IS MULTINOMIAL DISTRIBUTION\n",
    "# Distribution of age groups of released prisoners per https://data.cso.ie/\n",
    "\n",
    "sea.countplot(x=age, order=Ages)\n",
    "plt.title('Distribution of Age Groups')\n",
    "plt.show()"
   ]
  },
  {
   "cell_type": "code",
   "execution_count": null,
   "metadata": {},
   "outputs": [],
   "source": []
  },
  {
   "cell_type": "code",
   "execution_count": null,
   "metadata": {},
   "outputs": [],
   "source": []
  },
  {
   "cell_type": "markdown",
   "metadata": {},
   "source": [
    "# 2. VARIABLE 2: GENDER"
   ]
  },
  {
   "cell_type": "code",
   "execution_count": null,
   "metadata": {},
   "outputs": [],
   "source": [
    "Genders = ['Male', 'Female'] \n",
    "result = np.random.choice(Genders, 2604, p=[0.925, 0.075])  # BINOMIAL DISTRIBUTION\n",
    "print(result)\n",
    "#another method would be to assign Binomial distribution with 10 trials and probability 0.5 each trial. \n",
    "#fig = np.random.binomial(10, 0.5, 10000)\n",
    "\n",
    "sea.countplot(x=result, order=Genders)\n",
    "plt.title('Distribution of Gender Groups')\n",
    "plt.show()"
   ]
  },
  {
   "cell_type": "code",
   "execution_count": null,
   "metadata": {},
   "outputs": [],
   "source": []
  },
  {
   "cell_type": "code",
   "execution_count": null,
   "metadata": {},
   "outputs": [],
   "source": []
  },
  {
   "cell_type": "code",
   "execution_count": null,
   "metadata": {},
   "outputs": [],
   "source": []
  },
  {
   "cell_type": "code",
   "execution_count": null,
   "metadata": {},
   "outputs": [],
   "source": []
  },
  {
   "cell_type": "code",
   "execution_count": null,
   "metadata": {},
   "outputs": [],
   "source": []
  },
  {
   "cell_type": "code",
   "execution_count": null,
   "metadata": {},
   "outputs": [],
   "source": []
  }
 ],
 "metadata": {
  "kernelspec": {
   "display_name": "base",
   "language": "python",
   "name": "python3"
  },
  "language_info": {
   "codemirror_mode": {
    "name": "ipython",
    "version": 3
   },
   "file_extension": ".py",
   "mimetype": "text/x-python",
   "name": "python",
   "nbconvert_exporter": "python",
   "pygments_lexer": "ipython3",
   "version": "3.11.5"
  }
 },
 "nbformat": 4,
 "nbformat_minor": 2
}
