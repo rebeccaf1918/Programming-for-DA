{
 "cells": [
  {
   "cell_type": "markdown",
   "metadata": {},
   "source": [
    "# Project Assignment\n",
    "- Choose a real-world phenomenon that can be measured and for which you could collect at least one-hundred data points  across at least four different variables.\n",
    "- Investigate the types of variables involved, their likely distributions, and their relationships with each other.\n",
    "- Synthesise/simulate a data set as closely matching their properties as possible.\n",
    "- Detail your research and implement the simulation in a Jupyter notebook – the data set itself can simply be displayed in an output cell within the notebook.\n"
   ]
  },
  {
   "cell_type": "markdown",
   "metadata": {},
   "source": [
    "## Project Overview:\n",
    "The real world phenomenon which I have chosen to examine is the issue of recidivism of Irish prisoners on release from prison. \n",
    "\n",
    "For this project, I will create a simulated dataset on the factors which contribute to the recidivism of Irish prisoners. I will investigate the risk factors for reoffending within 1 year of release from incarceration. To do this, I will focus on key variables, I will research each of these variables and explore their relationship and any possible correlations. \n",
    "\n",
    "The variables involved in this project are:\n",
    "1. Age of the prisoner\n",
    "2. Gender of the prisoner\n",
    "3. Economic situation/education level of prisoner \n",
    "4. Original Offence type which caused imprisonment "
   ]
  },
  {
   "cell_type": "markdown",
   "metadata": {},
   "source": [
    "## The Phenomenon I have chosen to simulate"
   ]
  },
  {
   "cell_type": "markdown",
   "metadata": {},
   "source": [
    "The recidivism rate of of those released from incarceration is an issue which arises again and again. As the population of Ireland continues to grow, this can place pressure on many resources, prison capacity included. Thus, many people look at the goal of incarceration itself, and whether it is fit for purpose or if there could be an alternative to incarceration.\n",
    "When considering the purpose of incarceration, the main theories that underpin incarceration are: Incapacitation, rehabilitation, reparation, deterrence and retribution. \n",
    "\n",
    "In particular, looking at the theories of deterrence and rehabilitation, the issue of recidivism is particularly relevant. If the incarceration of wrong-doers is based on the notion that prison will rehabilitate them, reforming their behaviour and providing educational and emotional support, then the rate of recidivism can show whether rehabilitation is acutally being achieved. High rates of recidivism can demonstrate that imprisonment is not successful in reforming criminals into law-abiding members of society.\n",
    "\n",
    "Furthermore, if prison is considered a deterrent to would-be criminals, then the rate of recidivism can demonstrate if this is being achieved. A higher rate of recidivism can demonstrate that imprisonment is not an effective deterrent to criminals. \n",
    "\n"
   ]
  },
  {
   "cell_type": "markdown",
   "metadata": {},
   "source": [
    "### Why use Data Simulation\n",
    "\n",
    "The purpose of this project is to simulate a dataset. Due to the large amount of data easily accessible online, this raises the question: why create a simulated dataset instead of just using data already available? \n",
    "\n",
    "A key advantage to using simulated data is that it allows machine learning, deep learning and other analysis to be conducted on synthesised data, which is especially helpful when the collection of real world data may be too costly or too time consuming to conduct. It also facilitates the exploration of alternative outcomes to potential situations by creating various synthesised data sets.\n",
    "\n",
    "As such, to complete this project, I am not recreating an already complete dataset. Rather, I will investigate and research each of the variables involved and model a synthesised dataset based on the results of this research.\n"
   ]
  },
  {
   "cell_type": "markdown",
   "metadata": {},
   "source": [
    "## Benefit of synthesised data for this specific situation\n",
    "\n",
    "With regard to the issue of reoffending of Irish prisoners, a simulated data set can be useful for predicting which prisoners are at a greater risk of reoffending. This allows Government agencies, prisons, police, and other relevant organisations to alter the current system to reduce the likelihood of reoffending for those most at risk. It also allows them to examine any processes which are not working effectively and as the data has been synthesised, any potential changes could also be simulated to predict the success of such changes."
   ]
  },
  {
   "cell_type": "markdown",
   "metadata": {},
   "source": [
    "## Considerations to note\n",
    "\n",
    "The recidivism rate of criminals is a very complex issue. It is not within the remit of this project to comprehensively cover all of the factors which contribute to the recidivism of criminals. In particular, there are various factors such as relationship breakdowns, mental health issues, and traumatic events and difficult upbringings which can all contirbute significantly to the rate of recidivism of individual offenders. However, such variables are difficult to accurately measure and are greatly influenced by the personal experiences and motivations of each individual. \n",
    "As a result, this project will instead focus on key variables in order to examine the factors which contribute to a prisoner reoffending within 1 year of release from custody. \n"
   ]
  },
  {
   "cell_type": "markdown",
   "metadata": {},
   "source": [
    "![image](https://www.felonyrecordhub.com/wp-content/uploads/2021/04/Recidivism-Header.jpg)"
   ]
  },
  {
   "cell_type": "code",
   "execution_count": null,
   "metadata": {},
   "outputs": [],
   "source": [
    "# Here I am importing the various libraries I require to complete the data analysis and simulation\n",
    "import numpy as np\n",
    "import seaborn as sea\n",
    "import pandas as pd\n",
    "import matplotlib.pyplot as plt\n",
    "import sys"
   ]
  },
  {
   "cell_type": "markdown",
   "metadata": {},
   "source": [
    "## VARIABLE 1: Age"
   ]
  },
  {
   "cell_type": "markdown",
   "metadata": {},
   "source": [
    "For this project, the variable age is a categorical, ordinal variable, which has an inherent natural ranking as age is provided in age brackets, rather than individual ages which would be a continous, numerical variable. This variable provides information on the age distribution of prisoners upon release from a custodial sentence in 2017 and this information was obtained from CSO. \n",
    "However, the information was provided in age brackets, rather than giving the exact count of each age. As such, none of the numpy.random fuctions for distrbution such as numpy.random.randint was applicable here. Rather, I used the percentage breakdown of each age bracket as part of the function numpy.random.choice which allowed me to model more accurate simulated data."
   ]
  },
  {
   "cell_type": "code",
   "execution_count": null,
   "metadata": {},
   "outputs": [],
   "source": [
    "Ages = ['Under 21', '21-25', '26-30', '31-35', '36-40', '41-50', '50+'] # the age brackets of all released from prison in 2017\n",
    "age = np.random.choice(Ages, 2604, p=[0.058, 0.194, 0.211, 0.184, 0.133, 0.141, 0.079]) # the probability of each age bracket\n",
    "print(age) \n",
    "\n",
    "sea.countplot(x=age, order=Ages) # ensuring the countplot displays in the order I have specified\n",
    "plt.title('Distribution of Age Groups')\n",
    "plt.show()\n",
    "\n",
    "# Creating dataset for pie chart\n",
    "Ages = ['Under 21', '21-25', '26-30',\n",
    "        '31-35', '36-40', '41-50', '50+']\n",
    "Count = [150, 504, 550, 480, 347, 368, 205] # matching the count of each of the age brackets for the pie chart\n",
    " \n",
    "fig = plt.figure(figsize =(10, 7)) #setting the size of the figure\n",
    "plt.pie(Count, labels = Ages)\n",
    "plt.title('Age Groups of those released from Custodial Sentence') # setting the title\n",
    "plt.show()\n",
    "\n",
    "def Offender_Age(Age): # I have created a function to show the rate of reoffending broken down by age group e.g\n",
    "    if Age == 'Under 21':\n",
    "        return np.random.choice(['Reoffend', 'Not Reoffend'], p=[0.84, 0.16]) # if the under 21 age group is chosen, then 84% are likely to reoffend, and 16% will not reoffend\n",
    "    if Age == '21-25':\n",
    "        return np.random.choice(['Reoffend', 'Not Reoffend'], p=[0.72, 0.28])\n",
    "    if Age == '26-30':\n",
    "        return np.random.choice(['Reoffend', 'Not Reoffend'], p=[0.7, 0.3])\n",
    "    if Age == '31-35':\n",
    "        return np.random.choice(['Reoffend', 'Not Reoffend'], p=[0.62, 0.38])\n",
    "    if Age == '36-40':\n",
    "        return np.random.choice(['Reoffend', 'Not Reoffend'], p=[0.55, 0.45])\n",
    "    if Age == '41-50':\n",
    "        return np.random.choice(['Reoffend', 'Not Reoffend'], p=[0.47, 0.53])\n",
    "    if Age == '50+':\n",
    "        return np.random.choice(['Reoffend', 'Not Reoffend'], p=[0.27, 0.73])\n"
   ]
  },
  {
   "cell_type": "markdown",
   "metadata": {},
   "source": [
    "The above countplot and pie chart show that the majority of those released from prison are between the ages of 21 and 40, with the largest age group of those released from prison being 26-30, with the age group 21-25 a close second. Then it was necessary to set a function to show the recidivism rate of each of these age brackets and it cannot simply be assumed that the most frequently occuring age bracket would have the highest number of prisoners who reoffend. Thus, I have created the Offender_Age function which will explore the rate of reoffending of each group within the simulated dataset."
   ]
  },
  {
   "cell_type": "markdown",
   "metadata": {},
   "source": [
    "## VARIABLE 2: Gender\n",
    "\n",
    "The variable gender is a categorical, nominal variable, with two values, male and female, which do not have an inherent ranking. \n",
    "\n",
    "*While conducting research on this variable, there was no accessible information on the distribution of prisoners who identify outside of the binary genders male and female. Thus, for the purposes of this project, the variable gender is being synthesised based on male and female only, and does not include information on other gender identities. \n",
    "\n",
    "[Categorical data can also take on numerical values for example 1 = female and 0 = male.]"
   ]
  },
  {
   "cell_type": "code",
   "execution_count": null,
   "metadata": {},
   "outputs": [],
   "source": [
    "Genders = ['Male', 'Female'] \n",
    "Gender_count = np.random.choice(Genders, 2604, p=[0.925, 0.075]) # using this numpy function and setting the probability of each gender occuring within the 2604 prisoners released\n",
    "#print(Gender_count) commented out for clarity\n",
    "#another method would be to assign Binomial distribution with 10 trials and probability 0.5 each trial. \n",
    "#e.g np.random.binomial(10, 0.5, 2604); however, this is not exactly accurate for the data I am working with\n",
    "\n",
    "sea.countplot(x=Gender_count, order=Genders)\n",
    "plt.title('Distribution of Gender of those released from Prison') \n",
    "plt.show()"
   ]
  },
  {
   "cell_type": "code",
   "execution_count": null,
   "metadata": {},
   "outputs": [],
   "source": [
    "def Offender_Gender(Gender): # I have created a function which breaks down the rate of reoffending by gender \n",
    "    if Gender == 'Male':\n",
    "        return np.random.choice(['Reoffend', 'Not Reoffend'], p=[0.61, 0.39])\n",
    "    if Gender == 'Female':\n",
    "        return np.random.choice(['Reoffend', 'Not Reoffend'], p=[0.6, 0.4])\n",
    "\n"
   ]
  },
  {
   "cell_type": "markdown",
   "metadata": {},
   "source": [
    "The above countplot shows that the vast majority of those released from prison are male. \n",
    "Then it was necessary to set a function to show the recidivism rate specified by gender. As there are significantly more males released from prison than females, purely from a quantity viewpoint, more males than females will reoffend. However, it cannot be assumed that males are more likely than females to reoffend. \n",
    "Thus, I have created the Offender_Gender function which will explore the rate of reoffending of each gender within the simulated dataset."
   ]
  },
  {
   "cell_type": "markdown",
   "metadata": {},
   "source": [
    "## VARIABLE 3: Economic Situation"
   ]
  },
  {
   "cell_type": "markdown",
   "metadata": {},
   "source": [
    "This is a categorical variable which provides information the economic situation of those released from prison, as provided by the CSO. It sets out whether those released from prison have entered substantial employment, a training course, engaged with educational supports, etc. "
   ]
  },
  {
   "cell_type": "code",
   "execution_count": null,
   "metadata": {},
   "outputs": [],
   "source": [
    "# Setting out the variables for visualisation \n",
    "Economic_Status = ['No employment nor education', 'substantial employment only', 'education and training only',\n",
    "                   'education, training and substantial employment', 'Not identified' ]\n",
    "\n",
    "# As these variable names are too long to display on the x axis, even when rotated, I have created a shortened version\n",
    "Shorter_Name = ['No Edu or Emp', 'Emp Only', 'Edu & Training Only', 'Edu, Training & Emp Only',\n",
    "                        'Not Identified']\n",
    "# I have created a dictionary to show which Economic status variable corresponds to the shortened version for clarity\n",
    "# The zip function is used to iterate over each of the elements from each tuple, Shorter_Name and Economic_Status.\n",
    "# The dict function converts this into a dictionary which maps the shortened version to the longer version (acting as a kind of key for readers)\n",
    "Label_Dict = dict(zip(Shorter_Name, Economic_Status))\n",
    "\n",
    "Status = np.random.choice(Shorter_Name, 2604, p=[0.298, 0.047, 0.264, 0.028, 0.363])\n",
    "\n",
    "ax = sea.countplot(x=Status, order=Shorter_Name) # order is used so the information is displayed in the order I have created them in\n",
    "ax.set_xticklabels(ax.get_xticklabels(), rotation=40) # this rotates the x labels so that they do not overlap with each other for readability\n",
    "plt.title('The Economic Status of those upon release from a Custodial Sentence') # setting the title\n",
    "plt.tight_layout()\n",
    "plt.show()"
   ]
  },
  {
   "cell_type": "code",
   "execution_count": null,
   "metadata": {},
   "outputs": [],
   "source": [
    "# Creating dataset for pie chart\n",
    "Shorter_Name = ['No Edu or Emp', 'Emp Only', 'Edu & Training Only', 'Edu, Training & Emp Only', 'Not Identified']\n",
    "Count = [776, 123, 687, 73, 945] # setting the count for the pie chart\n",
    " \n",
    "fig = plt.figure(figsize =(10, 7)) #setting the size of the figure\n",
    "plt.pie(Count, labels = Shorter_Name)\n",
    "plt.title('Economic Status of those released from Custodial Sentence') # setting the title\n",
    "plt.show()"
   ]
  },
  {
   "cell_type": "markdown",
   "metadata": {},
   "source": [
    "The above countplot and pie chart show that only a small proportional of those released from prison go on to engage in substantial employment. Unfortunately, I was not able to source information on the reoffending rate of prisoners broken down by their economic status. However, it is fair to say, based on research from the Irish Penal Reform Trust, that those engaged in employment or education are less likely to reoffend and so it can be taken that for the purposes of this project, that those not engaged in employment or education are more likely to reoffend."
   ]
  },
  {
   "cell_type": "markdown",
   "metadata": {},
   "source": [
    "## VARIABLE 4: Type of Original Offence "
   ]
  },
  {
   "cell_type": "markdown",
   "metadata": {},
   "source": [
    "This variable is a categorical nominal variable which does not have an inherent ranking. This information is from the CSO showing which category of offence for which. the prisoner was originally incarcerated.\n",
    "\n",
    "However, the information was provided in categories, rather than giving the exact count of each offence type. As such, none of the numpy.random fuctions for distrbution such as numpy.random.randint were applicable here. Rather, I used the percentage breakdown of each category as part of the function numpy.random.choice which allowed me to model more accurate simulated data."
   ]
  },
  {
   "cell_type": "code",
   "execution_count": null,
   "metadata": {},
   "outputs": [],
   "source": [
    "Original_Offence_Type = ['Homicide Offences', 'Sexual Offences', 'Attempts/threats to murder, assaults, harassments and related offences',\n",
    "                        'Dangerous or negligent acts', 'Kidnapping & related offences', 'Robbery, extortion and hijacking offences',\n",
    "                        'Burglary and related offences', 'Theft and related offences', 'Fraud, deception and related offences', \n",
    "                        'Controlled drug offences', 'Weapons and Explosives Offences', 'Damage to property and to the environment',\n",
    "                        'Public order and other social code offences', 'Road and traffic offences', 'Offences against government, justice procedures and organisation of crime',\n",
    "                        'offences not elsewhere classified']\n",
    "\n",
    "Shortened_Offence = ['Homicide', 'SO', 'Atmptd murder/assault', 'Negligence', 'Kidnapping', \n",
    "                    'Robbery', 'Burglary', 'Theft', 'Fraud', 'DO', 'WO', 'PD', 'Public Order',\n",
    "                    'RTO', 'Offences agnst Gov', 'Unclassified']\n",
    "\n",
    "label_dict = dict(zip(Shortened_Offence, Original_Offence_Type)) # using the zip and dict functions as above to map the shortened\n",
    "# version of the long offence types for clarity. The long offence type titles did not display properly on the countplot.\n",
    "\n",
    "probabilities = [0.0096, 0.03226, 0.1321, 0.0411, 0.00384, 0.01728, 0.07411, \n",
    "                 0.22772,0.02457, 0.09254, 0.04032, 0.05299, 0.05798, 0.10637,\n",
    "                 0.06835, 0.01881]\n",
    "probabilities = [i/sum(probabilities) for i in probabilities]   # rescaling the probabilities to ensure that it equals 1 to use the numpy.random.choice function\n",
    "\n",
    "Offence = np.random.choice(Shortened_Offence, 2604, p=probabilities)\n",
    "plt.figure(figsize=(12, 8))\n",
    "plt.yticks(np.arange(0, 640, 40)) # changing interval so can visualise it easier\n",
    "ax = sea.countplot(x= Offence, order=Shortened_Offence)\n",
    "ax.set_xticklabels(ax.get_xticklabels(), rotation=40, fontsize = 8)\n",
    "plt.title('Distribution of Economic Status') # setting the title\n",
    "plt.tight_layout()\n",
    "plt.show()"
   ]
  },
  {
   "cell_type": "code",
   "execution_count": null,
   "metadata": {},
   "outputs": [],
   "source": [
    "def Offender_Offence(Offence): # I have created a function to show the rate of reoffending broken down by original offence type     if Age == 'Under 21':\n",
    "    if Offence == 'Homicide':    \n",
    "        return np.random.choice(['Reoffend', 'Not Reoffend'], p=[0.24, 0.76]) \n",
    "    if Offence == 'SO':\n",
    "        return np.random.choice(['Reoffend', 'Not Reoffend'], p=[0.12, 0.88])\n",
    "    if Offence == 'Atmptd murder/assault':\n",
    "        return np.random.choice(['Reoffend', 'Not Reoffend'], p=[0.64, 0.36])\n",
    "    if Offence == 'Negligence':\n",
    "        return np.random.choice(['Reoffend', 'Not Reoffend'], p=[0.64, 0.36])\n",
    "    if Offence == 'Kidnapping':\n",
    "        return np.random.choice(['Reoffend', 'Not Reoffend'], p=[0.7, 0.3])\n",
    "    if Offence == 'Robbery':\n",
    "        return np.random.choice(['Reoffend', 'Not Reoffend'], p=[0.67, 0.33])\n",
    "    if Offence == 'Burglary':\n",
    "        return np.random.choice(['Reoffend', 'Not Reoffend'], p=[0.78, 0.22])\n",
    "    if Offence == 'Theft':\n",
    "        return np.random.choice(['Reoffend', 'Not Reoffend'], p=[0.71, 0.29])\n",
    "    if Offence == 'Fraud':\n",
    "        return np.random.choice(['Reoffend', 'Not Reoffend'], p=[0.38, 0.62])\n",
    "    if Offence == 'DO':\n",
    "        return np.random.choice(['Reoffend', 'Not Reoffend'], p=[0.4, 0.6])\n",
    "    if Offence == 'WO':\n",
    "        return np.random.choice(['Reoffend', 'Not Reoffend'], p=[0.7, 0.3])\n",
    "    if Offence == 'PD':\n",
    "        return np.random.choice(['Reoffend', 'Not Reoffend'], p=[0.7, 0.3])\n",
    "    if Offence == 'Public Order':\n",
    "        return np.random.choice(['Reoffend', 'Not Reoffend'], p=[0.78, 0.22])\n",
    "    if Offence == 'RTO':\n",
    "        return np.random.choice(['Reoffend', 'Not Reoffend'], p=[0.58, 0.42])\n",
    "    #if Offence == 'Offences agnst Gov':\n",
    "     #   return np.random.choice(['Reoffend', 'Not Reoffend'], p=[0.25, 0.42])\n",
    "    #if Offence == 'Unclassified':\n",
    "      #  return np.random.choice(['Reoffend', 'Not Reoffend'], p=[0.0, 0.75])"
   ]
  },
  {
   "cell_type": "markdown",
   "metadata": {},
   "source": [
    "The above data shows which offences appear to occur most often, and the function I have created demonstrates which of these offence types has the most reoffenders."
   ]
  },
  {
   "cell_type": "markdown",
   "metadata": {},
   "source": [
    "## Relationships & Distributions of the variables\n",
    "Upon examining each of the variables, I discovered that due to the categorical nature of the variables, I was unable to determine the distribution of the data in a format such as uniform, poisson etc. Furthermore, there does not appear to be a clear correlation between the variables. For example, the age of the prisoner and their gender. While more males are released from prison, there seems to be an almost equal statistical percentage of each gender which reoffend (61% VS 60%). Thus, as it can be seen that there is a high likelihood of reoffending for those aged under 21, this is not affected by whether the person is male or female. \n"
   ]
  },
  {
   "cell_type": "markdown",
   "metadata": {},
   "source": [
    "# SIMULATING THE DATA SET"
   ]
  },
  {
   "cell_type": "markdown",
   "metadata": {},
   "source": []
  },
  {
   "cell_type": "code",
   "execution_count": null,
   "metadata": {},
   "outputs": [],
   "source": [
    "\n"
   ]
  },
  {
   "cell_type": "markdown",
   "metadata": {},
   "source": [
    "The first text file of simulated data is SimulatedDataSet.txt. This contains information about the demographic of prisoners on release from prison, including their age, gender, economic status, and the offence type which caused their incarceration. "
   ]
  },
  {
   "cell_type": "code",
   "execution_count": null,
   "metadata": {},
   "outputs": [],
   "source": [
    "# Set the seed so that the numbers can be reproduced.\n",
    "np.random.seed(2)  \n",
    "\n",
    "# writing the simulated data set to a text file\n",
    "original_stdout = sys.stdout \n",
    "with open (\"SimulatedDataSet.txt\", \"w\") as f: #w to write to file and opened it as it didn't already exist  \n",
    "    sys.stdout = f\n",
    "    p = 2604\n",
    "    listGender = np.random.choice(Genders, p, p=[0.925, 0.075])\n",
    "    listAge = np.random.choice(Ages, 2604, p, p=[0.058, 0.194, 0.211, 0.184, 0.133, 0.141, 0.079])\n",
    "    listEconomicStatus = np.random.choice(Shorter_Name, 2604, p=[0.298, 0.047, 0.264, 0.028, 0.363])\n",
    "    listOffence = np.random.choice(Shortened_Offence, 2604, p=probabilities)\n",
    "\n",
    "    d = {'Gender': listGender, 'Age': listAge, 'Economic Status' :listEconomicStatus, 'Offence Type': listOffence}\n",
    "    # creating a dictionary for the dataframe\n",
    "    df = pd.DataFrame(data=d)\n",
    "    print(df)\n",
    "    print(df.describe()) # writing the description of the simulated data set to the text file\n",
    "    sys.stdout = original_stdout\n",
    "\n",
    "\n",
    "\n",
    "'''\n",
    "sea.histplot(x='Age', hue='Gender', data=df)\n",
    "sea.catplot(x='Age',y='Offence Type', hue='Gender', data=df )\n",
    "plt.show()\n",
    "'''"
   ]
  },
  {
   "cell_type": "markdown",
   "metadata": {},
   "source": [
    "I have also created a second data set which is written to the text file SimulatedDataSetwithFunctions.txt. This text file uses the functions I have established under each variable to add additional columns to the dataset which breaks down the reoffending rate by gender, age and offence type. "
   ]
  },
  {
   "cell_type": "code",
   "execution_count": null,
   "metadata": {},
   "outputs": [],
   "source": [
    "original_stdout = sys.stdout \n",
    "with open (\"SimulatedDataSetwithFunctions.txt\", \"w\") as f: #w to write to file and opened it as it didn't already exist  \n",
    "    sys.stdout = f\n",
    "    p = 2604\n",
    "    listGender = np.random.choice(Genders, p, p=[0.925, 0.075])\n",
    "    listAge = np.random.choice(Ages, 2604, p, p=[0.058, 0.194, 0.211, 0.184, 0.133, 0.141, 0.079])\n",
    "    listEconomicStatus = np.random.choice(Shorter_Name, 2604, p=[0.298, 0.047, 0.264, 0.028, 0.363])\n",
    "    listOffence = np.random.choice(Shortened_Offence, 2604, p=probabilities)\n",
    "\n",
    "    d = {'Gender': listGender, 'Age': listAge, 'Economic Status' :listEconomicStatus, 'Offence Type': listOffence}\n",
    "    # creating a dictionary for the dataframe\n",
    "    df = pd.DataFrame(data=d)\n",
    "    df['Reoffending by Age'] = df['Age'].apply(Offender_Age)\n",
    "    df['Reoffending by Gender'] = df['Gender'].apply(Offender_Gender)\n",
    "    df['Reoffending by Offence Type'] = df['Offence Type'].apply(Offender_Offence)\n",
    "    print(df)\n",
    "    sys.stdout = original_stdout"
   ]
  },
  {
   "cell_type": "markdown",
   "metadata": {},
   "source": [
    "I attempted to analyse this simulated dataset but as the variables are categorical in nature, it did not provide clear information using the functions df.describe() and df.corr()."
   ]
  },
  {
   "cell_type": "code",
   "execution_count": null,
   "metadata": {},
   "outputs": [],
   "source": [
    "# Low, Medium, High, Extremely High [25%, 50%, 75%, 100%]\n",
    "\n",
    "def OffendingLikelihood(row):\n",
    "    if row ['Gender'] == 'Male' and row['Age'] == 'Under 21':\n",
    "        return 'Extremely High'\n",
    "    elif row['Gender'] == 'Male' and row['Age'] == '21-25':\n",
    "        return 'High'\n",
    "    elif row['Gender'] == 'Male'and row['Age'] == '26-30':\n",
    "        return 'High'\n",
    "    elif row['Gender'] == 'Male' and row['Age'] == '31-35':\n",
    "        return 'High'\n",
    "    elif row['Gender'] == 'Male' and row['Age'] == '36-40':\n",
    "        return 'High'\n",
    "    elif row['Gender'] == 'Male' and row['Age'] == '41-50':\n",
    "        return 'Medium'\n",
    "    elif row['Gender'] == 'Male' and row['Age'] == '50+':\n",
    "        return 'Low'\n",
    "    elif row['Gender'] == 'Female' and row['Age'] == 'Under 21':\n",
    "        return 'Extremely High'\n",
    "    elif row['Gender'] == 'Female' and row['Age'] == '21-25':\n",
    "        return 'High'\n",
    "    elif row['Gender'] == 'Female'and row['Age'] == '26-30':\n",
    "        return 'High'\n",
    "    elif row['Gender'] == 'Female' and row['Age'] == '31-35':\n",
    "        return 'High'\n",
    "    elif row['Gender'] == 'Female' and row['Age'] == '36-40':\n",
    "        return 'High'\n",
    "    elif row['Gender'] == 'Female' and row['Age'] == '41-50':\n",
    "        return 'Medium'\n",
    "    elif row['Gender'] == 'Female' and row['Age'] == '50+':\n",
    "        return 'Low'\n",
    "    elif row['Ecomonic Status'] == 'No Edu or Emp' and row ['Gender'] == 'Male':\n",
    "        return 'Extremely High'\n",
    "    elif row['Economic Status'] == 'Emp Only' and row ['Gender'] == 'Male':\n",
    "        return 'Low'\n",
    "    elif row['Economic Status'] == 'Edu & Training Only' and row ['Gender'] == 'Male':\n",
    "        return 'Medium'\n",
    "    elif row['Economic Status'] == 'Edu, Training & Emp Only' and row ['Gender'] == 'Male':\n",
    "        return 'Low'\n",
    "    elif row['Economic Status'] == 'Not Identified' and row ['Gender'] == 'Male':\n",
    "        return 'High'\n",
    "    elif row['Ecomonic Status'] == 'No Edu or Emp' and row ['Gender'] == 'Female':\n",
    "        return 'Extremely High'\n",
    "    elif row['Economic Status'] == 'Emp Only' and row['Gender'] == 'Female':\n",
    "        return 'Low'\n",
    "    elif row['Economic Status'] == 'Edu & Training Only' and row['Gender'] == 'Female':\n",
    "        return 'Medium'\n",
    "    elif row['Economic Status'] == 'Edu, Training & Emp Only'and row['Gender'] == 'Female':\n",
    "        return 'Low'\n",
    "    elif row['Economic Status'] == 'Not Identified' and row['Gender'] == 'Female':\n",
    "        return 'High'\n",
    "  \n",
    "\n",
    "df['OffendingLikelihood'] = df.apply(OffendingLikelihood, axis=1)\n",
    "\n",
    "# Print the DataFrame\n",
    "print(df)\n",
    "\n",
    "'''\n",
    "    else:\n",
    "        return 'Normal'\n",
    "'''"
   ]
  },
  {
   "cell_type": "markdown",
   "metadata": {},
   "source": [
    "# Issues which arose with my project\n",
    "One of the key difficulties I encountered whilst completing this project is that the data available to me were categorical variables, which I found more difficult to work with for the purposes of this project.\n",
    "This data, espeically when the data was in age brackets and general categories, did not lend itself easily to analysing the data and drawing any correlations. \n",
    "For example, when using the df.describe() function, due to the nature of the categorical data, I was unable to get the standard deviation, mean, percentile etc. Furthermore, I was unable to get the distribution of the data using numpy functions such as numpy.random.uniform and numpy.random.randint. In hindsight, I would chose a topic with a focus on continous numerical data, for examplet the kind found in the famous Palmer Penguins dataset."
   ]
  },
  {
   "cell_type": "markdown",
   "metadata": {},
   "source": []
  }
 ],
 "metadata": {
  "kernelspec": {
   "display_name": "base",
   "language": "python",
   "name": "python3"
  },
  "language_info": {
   "codemirror_mode": {
    "name": "ipython",
    "version": 3
   },
   "file_extension": ".py",
   "mimetype": "text/x-python",
   "name": "python",
   "nbconvert_exporter": "python",
   "pygments_lexer": "ipython3",
   "version": "3.11.5"
  }
 },
 "nbformat": 4,
 "nbformat_minor": 2
}
